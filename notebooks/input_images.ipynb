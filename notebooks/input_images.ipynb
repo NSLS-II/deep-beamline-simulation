{
 "cells": [
  {
   "cell_type": "code",
   "execution_count": 1,
   "id": "lonely-villa",
   "metadata": {},
   "outputs": [],
   "source": [
    "import numpy as np"
   ]
  },
  {
   "cell_type": "code",
   "execution_count": 2,
   "id": "numerous-professor",
   "metadata": {},
   "outputs": [],
   "source": [
    "params = [[1,2], [3,4], [5,6]]"
   ]
  },
  {
   "cell_type": "code",
   "execution_count": 3,
   "id": "present-lewis",
   "metadata": {},
   "outputs": [],
   "source": [
    "def create_image(im_size, param_list):\n",
    "    '''\n",
    "    makes one row worth of the size of one number\n",
    "    shuffles\n",
    "    sets the correct shape\n",
    "    '''\n",
    "    init_im = []\n",
    "    for i in param_list:\n",
    "        for j in range(0,im_size):\n",
    "            init_im.append(i)\n",
    "    init_im = np.asarray(init_im)\n",
    "    np.random.shuffle(init_im)\n",
    "    init_im = np.reshape(init_im, (len(param_list), im_size))\n",
    "    return init_im"
   ]
  },
  {
   "cell_type": "code",
   "execution_count": 4,
   "id": "eleven-tumor",
   "metadata": {},
   "outputs": [],
   "source": [
    "im = create_image(10, [1,2,4,5,6,7])"
   ]
  },
  {
   "cell_type": "code",
   "execution_count": 5,
   "id": "standing-proceeding",
   "metadata": {},
   "outputs": [],
   "source": [
    "import matplotlib.pyplot as plt"
   ]
  },
  {
   "cell_type": "code",
   "execution_count": 6,
   "id": "fiscal-permit",
   "metadata": {},
   "outputs": [
    {
     "data": {
      "text/plain": [
       "<matplotlib.image.AxesImage at 0x2b4da1627e50>"
      ]
     },
     "execution_count": 6,
     "metadata": {},
     "output_type": "execute_result"
    },
    {
     "data": {
      "image/png": "[encoded data removed]",
      "text/plain": [
       "<Figure size 432x288 with 1 Axes>"
      ]
     },
     "metadata": {
      "needs_background": "light"
     },
     "output_type": "display_data"
    }
   ],
   "source": [
    "plt.imshow(im)"
   ]
  },
  {
   "cell_type": "code",
   "execution_count": null,
   "id": "several-italy",
   "metadata": {},
   "outputs": [],
   "source": []
  }
 ],
 "metadata": {
  "kernelspec": {
   "display_name": "Python 3",
   "language": "python",
   "name": "python3"
  },
  "language_info": {
   "codemirror_mode": {
    "name": "ipython",
    "version": 3
   },
   "file_extension": ".py",
   "mimetype": "text/x-python",
   "name": "python",
   "nbconvert_exporter": "python",
   "pygments_lexer": "ipython3",
   "version": "3.7.12"
  }
 },
 "nbformat": 4,
 "nbformat_minor": 5
}
