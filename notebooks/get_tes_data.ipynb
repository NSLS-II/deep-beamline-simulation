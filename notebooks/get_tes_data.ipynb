{
 "cells": [
  {
   "cell_type": "code",
   "execution_count": 2,
   "id": "47e780a4-5ad4-4085-8a4f-701b652fa627",
   "metadata": {},
   "outputs": [],
   "source": [
    "import glob, re\n",
    "import matplotlib.pyplot as plt\n",
    "import numpy as np\n",
    "import scipy as sp\n",
    "import time as ttime\n",
    "\n",
    "import pandas as pd\n",
    "from scipy import stats\n",
    "\n",
    "from IPython.display import clear_output\n",
    "\n",
    "def mm(*M_list):\n",
    "    res = M_list[0]\n",
    "    for M in M_list[1:]: res = np.matmul(res,M)\n",
    "    return res\n",
    "#%matplotlib widget"
   ]
  },
  {
   "cell_type": "code",
   "execution_count": 3,
   "id": "8b40c861-be40-4d07-bee6-69567b5d7f0c",
   "metadata": {},
   "outputs": [
    {
     "name": "stdout",
     "output_type": "stream",
     "text": [
      "Requirement already satisfied: opencv-python in /srv/conda/envs/notebook/lib/python3.9/site-packages (4.5.5.64)\n",
      "Requirement already satisfied: numpy>=1.19.3 in /srv/conda/envs/notebook/lib/python3.9/site-packages (from opencv-python) (1.21.6)\n"
     ]
    }
   ],
   "source": [
    "!pip3 install opencv-python\n",
    "import cv2\n",
    "from numpy import linalg as la"
   ]
  },
  {
   "cell_type": "code",
   "execution_count": 4,
   "id": "54c43e1d-43a9-49fb-bf4b-1cb78a82a901",
   "metadata": {},
   "outputs": [
    {
     "name": "stderr",
     "output_type": "stream",
     "text": [
      "OBJECT CACHE: Will use up to 121_499_070_873 bytes (15% of total physical RAM)\n"
     ]
    },
    {
     "name": "stdout",
     "output_type": "stream",
     "text": [
      "CPU times: user 1.45 s, sys: 98 ms, total: 1.55 s\n",
      "Wall time: 1.58 s\n"
     ]
    }
   ],
   "source": [
    "from databroker import Broker\n",
    "db = Broker.named('tes')\n",
    "%time hdr = db[9585]\n",
    "tbl = hdr.table()"
   ]
  },
  {
   "cell_type": "code",
   "execution_count": 5,
   "id": "3b341d74-1d45-438e-a6aa-62d4d07d4d85",
   "metadata": {},
   "outputs": [
    {
     "data": {
      "text/plain": [
       "array(['2022-05-26T20:53:24.403696384', '2022-05-26T20:53:25.622542592',\n",
       "       '2022-05-26T20:53:26.829016320', ...,\n",
       "       '2022-05-27T13:40:56.841859840', '2022-05-27T13:40:58.050133504',\n",
       "       '2022-05-27T13:40:59.245572864'], dtype='<U48')"
      ]
     },
     "execution_count": 5,
     "metadata": {},
     "output_type": "execute_result"
    }
   ],
   "source": [
    "tbl.time.values.astype(str)"
   ]
  },
  {
   "cell_type": "code",
   "execution_count": 6,
   "id": "aaf9774e-a189-41a2-9ce4-0215e5b7c659",
   "metadata": {},
   "outputs": [],
   "source": [
    "from datetime import datetime\n",
    "\n",
    "#datetime()\n",
    "\n",
    "tbl['timestamp'] = [datetime.fromisoformat(iso[:-10]).timestamp() for iso in tbl.time.values.astype(str)]"
   ]
  },
  {
   "cell_type": "code",
   "execution_count": 7,
   "id": "1a807285-340b-400e-a93c-4930517fc0aa",
   "metadata": {},
   "outputs": [],
   "source": [
    "rmd  = tbl[['kbh_ush','kbh_dsh','kbv_ush','kbv_dsh']]"
   ]
  },
  {
   "cell_type": "code",
   "execution_count": 8,
   "id": "4c6b2884-2b4f-4d75-b010-ce89dcb314a1",
   "metadata": {},
   "outputs": [
    {
     "name": "stdout",
     "output_type": "stream",
     "text": [
      "CPU times: user 40.2 s, sys: 45.3 s, total: 1min 25s\n",
      "Wall time: 1min 24s\n"
     ]
    },
    {
     "data": {
      "text/plain": [
       "(50000, 480, 704)"
      ]
     },
     "execution_count": 8,
     "metadata": {},
     "output_type": "execute_result"
    }
   ],
   "source": [
    "prefix = '/nsls2/users/tmorris/datasets/tes/220526x50000'\n",
    "\n",
    "#ims = np.array([sp.ndimage.gaussian_filter(im,sigma=1) for im in np.load(f'{prefix}/raw_averaged.npy')])\n",
    "%time ims = np.load(f'{prefix}/raw_averaged.npy').astype(np.float32)\n",
    "\n",
    "#ims = ims[:,0::2] + ims[:,1::2]\n",
    "#ims = ims[:,:,0::2] + ims[:,:,1::2]\n",
    "\n",
    "nf, nx, ny = ims.shape\n",
    "nf, nx, ny"
   ]
  },
  {
   "cell_type": "code",
   "execution_count": 9,
   "id": "8230d1f1-561b-4ffb-a93a-d803d55e1f87",
   "metadata": {},
   "outputs": [
    {
     "name": "stdout",
     "output_type": "stream",
     "text": [
      "CPU times: user 14.5 s, sys: 59.9 ms, total: 14.5 s\n",
      "Wall time: 14.4 s\n"
     ]
    }
   ],
   "source": [
    "peaks = ims.max(axis=(1,2))\n",
    "\n",
    "%time mi, mj = np.unravel_index(ims.reshape(-1,nx*ny).argmax(axis=1),shape=(nx,ny))\n",
    "mi_min, mi_max = np.percentile(mi, q=[2,98])\n",
    "mj_min, mj_max = np.percentile(mj, q=[2,98])\n",
    "\n",
    "good  = True\n",
    "good &= peaks > np.percentile(peaks, q=2)\n",
    "good &= mi > mi_min\n",
    "good &= mi < mi_max\n",
    "good &= mj > mj_min\n",
    "good &= mj < mj_max\n",
    "\n",
    "ims = ims[good]\n",
    "rmd = rmd.loc[good]"
   ]
  },
  {
   "cell_type": "code",
   "execution_count": 10,
   "id": "7b1e83cc-583f-43c8-b133-ecdcc137917b",
   "metadata": {},
   "outputs": [
    {
     "data": {
      "text/plain": [
       "((45790, 480, 704), (45790, 4))"
      ]
     },
     "execution_count": 10,
     "metadata": {},
     "output_type": "execute_result"
    }
   ],
   "source": [
    "ims.shape, rmd.shape"
   ]
  },
  {
   "cell_type": "code",
   "execution_count": 11,
   "id": "f16c48bb-3053-4a0f-a063-1393b1f042f7",
   "metadata": {},
   "outputs": [
    {
     "data": {
      "text/plain": [
       "[<matplotlib.lines.Line2D at 0x2adcdc7ca790>]"
      ]
     },
     "execution_count": 11,
     "metadata": {},
     "output_type": "execute_result"
    },
    {
     "data": {
      "image/png": "[encoded data removed]",
      "text/plain": [
       "<Figure size 432x288 with 1 Axes>"
      ]
     },
     "metadata": {
      "needs_background": "light"
     },
     "output_type": "display_data"
    }
   ],
   "source": [
    "nmd  = rmd.copy()\n",
    "nmd -= np.percentile(nmd,q=5,axis=0)\n",
    "nmd *= 2 / np.percentile(nmd,q=95,axis=0)\n",
    "nmd -= 1\n",
    "plt.figure()\n",
    "plt.plot(nmd.values[:,3])"
   ]
  },
  {
   "cell_type": "code",
   "execution_count": 12,
   "id": "6f5767c0-662e-4c68-964c-f43d9cb03797",
   "metadata": {},
   "outputs": [
    {
     "name": "stdout",
     "output_type": "stream",
     "text": [
      "CPU times: user 16 s, sys: 200 ms, total: 16.2 s\n",
      "Wall time: 15.8 s\n"
     ]
    }
   ],
   "source": [
    "%time med = np.mean(ims, axis=0); ims -= med[None,:,:]"
   ]
  },
  {
   "cell_type": "code",
   "execution_count": 13,
   "id": "94b978bb-0324-4cdf-9302-75c456b701b7",
   "metadata": {},
   "outputs": [
    {
     "data": {
      "text/plain": [
       "<matplotlib.image.AxesImage at 0x2adcdc7054f0>"
      ]
     },
     "execution_count": 13,
     "metadata": {},
     "output_type": "execute_result"
    },
    {
     "data": {
      "image/png": "[encoded data removed]",
      "text/plain": [
       "<Figure size 432x288 with 1 Axes>"
      ]
     },
     "metadata": {
      "needs_background": "light"
     },
     "output_type": "display_data"
    }
   ],
   "source": [
    "plt.imshow(ims[0])"
   ]
  },
  {
   "cell_type": "code",
   "execution_count": 14,
   "id": "7ff21eea-b39f-4c5c-8a9d-b16f5673284e",
   "metadata": {},
   "outputs": [
    {
     "data": {
      "text/html": [
       "<div>\n",
       "<style scoped>\n",
       "    .dataframe tbody tr th:only-of-type {\n",
       "        vertical-align: middle;\n",
       "    }\n",
       "\n",
       "    .dataframe tbody tr th {\n",
       "        vertical-align: top;\n",
       "    }\n",
       "\n",
       "    .dataframe thead th {\n",
       "        text-align: right;\n",
       "    }\n",
       "</style>\n",
       "<table border=\"1\" class=\"dataframe\">\n",
       "  <thead>\n",
       "    <tr style=\"text-align: right;\">\n",
       "      <th></th>\n",
       "      <th>kbh_ush</th>\n",
       "      <th>kbh_dsh</th>\n",
       "      <th>kbv_ush</th>\n",
       "      <th>kbv_dsh</th>\n",
       "    </tr>\n",
       "    <tr>\n",
       "      <th>seq_num</th>\n",
       "      <th></th>\n",
       "      <th></th>\n",
       "      <th></th>\n",
       "      <th></th>\n",
       "    </tr>\n",
       "  </thead>\n",
       "  <tbody>\n",
       "    <tr>\n",
       "      <th>1</th>\n",
       "      <td>-1.113896</td>\n",
       "      <td>-0.023596</td>\n",
       "      <td>0.717250</td>\n",
       "      <td>-0.006747</td>\n",
       "    </tr>\n",
       "    <tr>\n",
       "      <th>2</th>\n",
       "      <td>-1.116230</td>\n",
       "      <td>-0.033730</td>\n",
       "      <td>0.755715</td>\n",
       "      <td>-0.037685</td>\n",
       "    </tr>\n",
       "    <tr>\n",
       "      <th>3</th>\n",
       "      <td>-1.119937</td>\n",
       "      <td>-0.042739</td>\n",
       "      <td>0.787975</td>\n",
       "      <td>-0.071350</td>\n",
       "    </tr>\n",
       "    <tr>\n",
       "      <th>4</th>\n",
       "      <td>-1.123920</td>\n",
       "      <td>-0.049871</td>\n",
       "      <td>0.816617</td>\n",
       "      <td>-0.105288</td>\n",
       "    </tr>\n",
       "    <tr>\n",
       "      <th>5</th>\n",
       "      <td>-1.126803</td>\n",
       "      <td>-0.055313</td>\n",
       "      <td>0.843604</td>\n",
       "      <td>-0.137862</td>\n",
       "    </tr>\n",
       "    <tr>\n",
       "      <th>...</th>\n",
       "      <td>...</td>\n",
       "      <td>...</td>\n",
       "      <td>...</td>\n",
       "      <td>...</td>\n",
       "    </tr>\n",
       "    <tr>\n",
       "      <th>49996</th>\n",
       "      <td>-1.129687</td>\n",
       "      <td>0.009811</td>\n",
       "      <td>0.438383</td>\n",
       "      <td>0.013152</td>\n",
       "    </tr>\n",
       "    <tr>\n",
       "      <th>49997</th>\n",
       "      <td>-1.124606</td>\n",
       "      <td>0.009248</td>\n",
       "      <td>0.497424</td>\n",
       "      <td>0.034414</td>\n",
       "    </tr>\n",
       "    <tr>\n",
       "      <th>49998</th>\n",
       "      <td>-1.119663</td>\n",
       "      <td>0.004556</td>\n",
       "      <td>0.558843</td>\n",
       "      <td>0.041229</td>\n",
       "    </tr>\n",
       "    <tr>\n",
       "      <th>49999</th>\n",
       "      <td>-1.115681</td>\n",
       "      <td>-0.003139</td>\n",
       "      <td>0.617987</td>\n",
       "      <td>0.035368</td>\n",
       "    </tr>\n",
       "    <tr>\n",
       "      <th>50000</th>\n",
       "      <td>-1.113758</td>\n",
       "      <td>-0.013086</td>\n",
       "      <td>0.671445</td>\n",
       "      <td>0.018468</td>\n",
       "    </tr>\n",
       "  </tbody>\n",
       "</table>\n",
       "<p>45790 rows × 4 columns</p>\n",
       "</div>"
      ],
      "text/plain": [
       "          kbh_ush   kbh_dsh   kbv_ush   kbv_dsh\n",
       "seq_num                                        \n",
       "1       -1.113896 -0.023596  0.717250 -0.006747\n",
       "2       -1.116230 -0.033730  0.755715 -0.037685\n",
       "3       -1.119937 -0.042739  0.787975 -0.071350\n",
       "4       -1.123920 -0.049871  0.816617 -0.105288\n",
       "5       -1.126803 -0.055313  0.843604 -0.137862\n",
       "...           ...       ...       ...       ...\n",
       "49996   -1.129687  0.009811  0.438383  0.013152\n",
       "49997   -1.124606  0.009248  0.497424  0.034414\n",
       "49998   -1.119663  0.004556  0.558843  0.041229\n",
       "49999   -1.115681 -0.003139  0.617987  0.035368\n",
       "50000   -1.113758 -0.013086  0.671445  0.018468\n",
       "\n",
       "[45790 rows x 4 columns]"
      ]
     },
     "execution_count": 14,
     "metadata": {},
     "output_type": "execute_result"
    }
   ],
   "source": [
    "nmd"
   ]
  },
  {
   "cell_type": "code",
   "execution_count": null,
   "id": "a0d364db-b327-45d5-814f-4ecd1fa65411",
   "metadata": {},
   "outputs": [],
   "source": []
  }
 ],
 "metadata": {
  "kernelspec": {
   "display_name": "Python 3",
   "language": "python",
   "name": "python3"
  },
  "language_info": {
   "codemirror_mode": {
    "name": "ipython",
    "version": 3
   },
   "file_extension": ".py",
   "mimetype": "text/x-python",
   "name": "python",
   "nbconvert_exporter": "python",
   "pygments_lexer": "ipython3",
   "version": "3.9.12"
  }
 },
 "nbformat": 4,
 "nbformat_minor": 5
}
