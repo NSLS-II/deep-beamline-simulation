{
 "cells": [
  {
   "cell_type": "code",
   "execution_count": 1,
   "id": "consistent-merchandise",
   "metadata": {},
   "outputs": [],
   "source": [
    "import os"
   ]
  },
  {
   "cell_type": "code",
   "execution_count": 2,
   "id": "extraordinary-equity",
   "metadata": {},
   "outputs": [],
   "source": [
    "import cv2"
   ]
  },
  {
   "cell_type": "code",
   "execution_count": 3,
   "id": "english-secondary",
   "metadata": {},
   "outputs": [],
   "source": [
    "import h5py"
   ]
  },
  {
   "cell_type": "code",
   "execution_count": 4,
   "id": "spectacular-second",
   "metadata": {},
   "outputs": [],
   "source": [
    "from pathlib import Path"
   ]
  },
  {
   "cell_type": "code",
   "execution_count": 5,
   "id": "different-thing",
   "metadata": {},
   "outputs": [],
   "source": [
    "import matplotlib.pyplot as plt"
   ]
  },
  {
   "cell_type": "code",
   "execution_count": 6,
   "id": "bottom-opening",
   "metadata": {},
   "outputs": [],
   "source": [
    "from torch.utils.data import Dataset"
   ]
  },
  {
   "cell_type": "code",
   "execution_count": 7,
   "id": "instructional-tuner",
   "metadata": {},
   "outputs": [],
   "source": [
    "import numpy as np"
   ]
  },
  {
   "cell_type": "code",
   "execution_count": 8,
   "id": "detected-classic",
   "metadata": {},
   "outputs": [],
   "source": [
    "import pandas as pd"
   ]
  },
  {
   "cell_type": "code",
   "execution_count": 9,
   "id": "mounted-retrieval",
   "metadata": {},
   "outputs": [],
   "source": [
    "from PIL import Image"
   ]
  },
  {
   "cell_type": "code",
   "execution_count": 10,
   "id": "three-craft",
   "metadata": {},
   "outputs": [],
   "source": [
    "import torch"
   ]
  },
  {
   "cell_type": "code",
   "execution_count": 11,
   "id": "latter-nickel",
   "metadata": {},
   "outputs": [],
   "source": [
    "from torchinfo import summary"
   ]
  },
  {
   "cell_type": "code",
   "execution_count": 12,
   "id": "clear-petite",
   "metadata": {},
   "outputs": [],
   "source": [
    "from torch.utils.data import DataLoader"
   ]
  },
  {
   "cell_type": "code",
   "execution_count": 13,
   "id": "enhanced-banner",
   "metadata": {},
   "outputs": [],
   "source": [
    "from torch.nn import (\n",
    "    Upsample,\n",
    "    ConvTranspose2d,\n",
    "    Conv2d,\n",
    "    MaxPool2d,\n",
    "    Module,\n",
    "    ModuleList,\n",
    "    ReLU,\n",
    "    Dropout,\n",
    ")"
   ]
  },
  {
   "cell_type": "code",
   "execution_count": 14,
   "id": "offshore-likelihood",
   "metadata": {},
   "outputs": [],
   "source": [
    "class ImageProcessing:\n",
    "    \"\"\"\n",
    "    Processes images for proper training specifications\n",
    "    Prevents issues with size and shape of all images in a dataset\n",
    "    Normalizes values in images to prevent training issues\n",
    "    Parameters\n",
    "    ----------\n",
    "    image_list : list\n",
    "        holds the list of images to transform with following methods\n",
    "    \"\"\"\n",
    "\n",
    "    def __init__(self, image_list):\n",
    "        # stores a list of images to process for training or testing\n",
    "        self.image_list = image_list\n",
    "\n",
    "    def smallest_image_size(self):\n",
    "        # set to values that will be instantly changed\n",
    "        min_height = 10e4\n",
    "        min_length = 10e4\n",
    "        # loop through the images to get the minimum and maximum to resize\n",
    "        for s in self.image_list:\n",
    "            shape = s.shape\n",
    "            height = shape[0]\n",
    "            length = shape[1]\n",
    "            if height < min_height:\n",
    "                min_height = height\n",
    "            if length < min_length:\n",
    "                min_length = length\n",
    "        return min_height, min_length\n",
    "\n",
    "    def resize(self, image, height, length):\n",
    "        # use CV2 to resize images to desired shape and interpolate if needed\n",
    "        res = cv2.resize(\n",
    "            image, dsize=(length - 1, height - 3), interpolation=cv2.INTER_CUBIC\n",
    "        )\n",
    "        return res\n",
    "\n",
    "    def normalize_image(self, image):\n",
    "        # normalize image by the mean and standard deviation to improve training\n",
    "        im_mean = np.mean(image)\n",
    "        im_std = np.std(image)\n",
    "        return (image - im_mean) / im_std\n",
    "\n",
    "    def loss_crop(self, image, x1, x2):\n",
    "        # crop images to recompute the loss to avoid all of th extra empty space\n",
    "        cropped_image = []\n",
    "        for row in image:\n",
    "            crop = row[x1:x2]\n",
    "            cropped_image.append(crop)\n",
    "        cropped_image = np.asarray(cropped_image)\n",
    "        return cropped_image\n",
    "\n",
    "    def preprocess(self, filename):\n",
    "        #dbs_path = Path(deep_beamline_simulation.__file__)\n",
    "\n",
    "        #dbs_repository = dbs_path.parent.parent\n",
    "\n",
    "        # get data from file\n",
    "        # example: filename = \"NSLS-II-TES-beamline-rsOptExport-2/rsopt350/datasets/results.h5\"\n",
    "        #train_file = dbs_repository / filename\n",
    "\n",
    "        # read the results.h5 file\n",
    "        with h5py.File(filename) as f:\n",
    "            beam_intensities = f['beamIntensities']\n",
    "            self.image_list = beam_intensities\n",
    "            min_height, min_length = self.smallest_image_size()\n",
    "\n",
    "            # identify parameter shapes and counts\n",
    "            print(f\"Parameter Shape: {f['params'].shape}\" )\n",
    "            _parameter_count = f[\"params\"].shape[0]\n",
    "\n",
    "            cropped_beam_intensities = []\n",
    "            for image in beam_intensities:\n",
    "                cropped_beam_intensities.append(self.loss_crop(image, 400, 650))\n",
    "\n",
    "            fig, axs = plt.subplots(nrows=1, ncols=2)\n",
    "            axs[0].imshow(beam_intensities[0], aspect='auto')\n",
    "            axs[0].set_title('Uncropped Image')\n",
    "            axs[1].imshow(cropped_beam_intensities[0], aspect='auto')\n",
    "            axs[1].set_title('Cropped Image')\n",
    "\n",
    "            cropped_beam_intensities = np.array(cropped_beam_intensities)\n",
    "            log_cropped_beam_intensities = np.log(cropped_beam_intensities + 1e-10)\n",
    "            plt.figure()\n",
    "            plt.hist(log_cropped_beam_intensities.flatten(), bins=100)\n",
    "            plt.title(\"log transformed cropped image data\")\n",
    "            plt.show()\n",
    "\n",
    "            normalized_log_cropped_beam_intensities = (log_cropped_beam_intensities - np.mean(\n",
    "            log_cropped_beam_intensities)) / np.std(log_cropped_beam_intensities)\n",
    "            fig, axs = plt.subplots(nrows=1, ncols=2)\n",
    "            axs[0].hist(normalized_log_cropped_beam_intensities.flatten(), bins=300)\n",
    "            axs[0].set_title(\"Normalized Log Transformed Cropped Image Data\")\n",
    "\n",
    "            axs[1].hist(np.std(normalized_log_cropped_beam_intensities, axis=(1, 2)), bins=300)\n",
    "            axs[1].set_title(\"STD\")\n",
    "            plt.show()\n",
    "\n",
    "            # determine if blank images occur and remove them\n",
    "            bad_image_indices = []\n",
    "            good_image_indices = []\n",
    "            resized_images = []\n",
    "\n",
    "            for i in range(normalized_log_cropped_beam_intensities.shape[0]):\n",
    "                std = np.std(normalized_log_cropped_beam_intensities[i])\n",
    "                if 1e-10 < std:\n",
    "                    good_image_indices.append(i)\n",
    "                else:\n",
    "                    print(f\"rejecting image {i} with std {std:.3e}\")\n",
    "                    bad_image_indices.append(i)\n",
    "                resized_images.append(\n",
    "                    self.resize(\n",
    "                        normalized_log_cropped_beam_intensities[i],\n",
    "                        height=128 + 3,\n",
    "                        length=128 + 1\n",
    "                    )\n",
    "                )\n",
    "\n",
    "            print(f\"bad image count: {len(bad_image_indices)}\")\n",
    "\n",
    "            # this is the input image or the intial intensity\n",
    "            initial_beam_intensity_csv_path = \"tes_init.csv\"\n",
    "\n",
    "            initial_beam_intensity = pd.read_csv(initial_beam_intensity_csv_path, skiprows=1).to_numpy()\n",
    "            min_initial_beam_intensity = np.min(initial_beam_intensity)\n",
    "            print(f\"min initial beam intensity {min_initial_beam_intensity}\")\n",
    "\n",
    "            if min_initial_beam_intensity > 0:\n",
    "                e = 0.0\n",
    "            elif min_initial_beam_intensity == 0.0:\n",
    "                e = 1e-10\n",
    "            else:\n",
    "                e = 1e-10 + np.abs(min_initial_beam_intensity)\n",
    "\n",
    "            log_initial_beam_intensity = np.log(\n",
    "                initial_beam_intensity + e\n",
    "            )\n",
    "            plt.figure()\n",
    "            plt.hist(log_initial_beam_intensity.flatten(), bins=100)\n",
    "            plt.title(\"log_initial_beam_intensity\")\n",
    "            plt.show()\n",
    "\n",
    "            normalized_initial_beam_intensity = (log_initial_beam_intensity - np.mean(log_initial_beam_intensity)) / np.std(\n",
    "                log_initial_beam_intensity)\n",
    "            resized_initial_beam_intensity = self.resize(\n",
    "                normalized_initial_beam_intensity,\n",
    "                height=128 + 3,\n",
    "                length=128 + 1\n",
    "            )\n",
    "\n",
    "            with h5py.File(\"preprocessed_results.h5\", mode=\"w\") as preprocessed_results:\n",
    "                good_image_count = len(good_image_indices)\n",
    "\n",
    "                pi_ds = preprocessed_results.create_dataset(\n",
    "                    \"preprocessed_initial_beam_intensity\",\n",
    "                    (128, 128)\n",
    "                )\n",
    "                pi_ds[:] = resized_initial_beam_intensity\n",
    "\n",
    "                params_ds = preprocessed_results.create_dataset_like(\"params\", f[\"params\"])\n",
    "                for i, param in enumerate(f[\"params\"]):\n",
    "                    params_ds[i] = param\n",
    "\n",
    "                pbi_ds = preprocessed_results.create_dataset(\n",
    "                    \"preprocessed_beam_intensities\",\n",
    "                    (good_image_count, 128, 128)\n",
    "                )\n",
    "\n",
    "                normalized_param_vals_ds = preprocessed_results.create_dataset(\n",
    "                    \"preprocessed_param_vals\",\n",
    "                    (good_image_count, f[\"paramVals\"].shape[1])\n",
    "                )\n",
    "\n",
    "                normalized_param_vals = (f[\"paramVals\"] - np.mean(f[\"paramVals\"])) / np.std(f[\"paramVals\"])\n",
    "\n",
    "                for i, good_i in enumerate(good_image_indices):\n",
    "                    normalized_param_vals_ds[i] = normalized_param_vals[good_i]\n",
    "                    pbi_ds[i] = resized_images[good_i]\n",
    "\n",
    "            with h5py.File(\"preprocessed_results.h5\", mode=\"r\") as preprocessed_results:\n",
    "                print(preprocessed_results.keys())\n",
    "                print(preprocessed_results[\"params\"])\n",
    "                print(preprocessed_results[\"params\"][:])\n",
    "                print(preprocessed_results[\"preprocessed_param_vals\"])\n",
    "\n",
    "        return _parameter_count, resized_images\n"
   ]
  },
  {
   "cell_type": "code",
   "execution_count": 15,
   "id": "vital-circulation",
   "metadata": {},
   "outputs": [],
   "source": [
    "class UNet(Module):\n",
    "    \"\"\"\n",
    "    Defines the UNet architecture\n",
    "    \"\"\"\n",
    "\n",
    "    def __init__(self, input_size, output_size, parameter_count):\n",
    "        super().__init__()\n",
    "        # define input layer\n",
    "        self.input_layer = Conv2d(in_channels = 1, out_channels = 1, kernel_size=3, stride=1, padding=1)\n",
    "        # for going down the U\n",
    "        self.conv_inx64 = Conv2d(in_channels = 1, out_channels = 64, kernel_size=3, stride=1, padding=1)\n",
    "        self.conv_64x128 = Conv2d(in_channels = 64, out_channels = 128, kernel_size=3, stride=1, padding=1)\n",
    "        self.conv_128x256 = Conv2d(in_channels = 128, out_channels = 256, kernel_size=3, stride=1, padding=1)\n",
    "        self.conv_256x512 = Conv2d(in_channels = 256, out_channels = 512, kernel_size=3, stride=1, padding=1)\n",
    "\n",
    "        self.relu = ReLU()\n",
    "\n",
    "        self.dropout = Dropout(0.5)\n",
    "\n",
    "        self.maxpool = MaxPool2d(2)\n",
    "\n",
    "        self.upsample = Upsample(scale_factor=2, mode=\"nearest\")\n",
    "        self.upsample_final = Upsample(size=(input_size, output_size))\n",
    "\n",
    "        # for going up the U\n",
    "        self.upconv1024 = ConvTranspose2d(in_channels = 1024, out_channels = 512, kernel_size=3, stride=1, padding=1)\n",
    "        self.upconv512 = ConvTranspose2d(in_channels = 512, out_channels = 256, kernel_size=3, stride=1, padding=1)\n",
    "        self.upconv256 = ConvTranspose2d(in_channels = 256, out_channels = 128, kernel_size=3, stride=1, padding=1)\n",
    "        self.upconv128 = ConvTranspose2d(in_channels = 128, out_channels = 64, kernel_size=3, stride=1, padding=1)\n",
    "\n",
    "        # used for down blocks\n",
    "        self.conv64 = Conv2d(in_channels = 64, out_channels = 64, kernel_size=3, stride=1, padding=1)\n",
    "        self.conv128 = Conv2d(in_channels = 128, out_channels = 128, kernel_size=3, stride=1, padding=1)\n",
    "        self.conv256 = Conv2d(in_channels = 256, out_channels = 256, kernel_size=3, stride=1, padding=1)\n",
    "        self.conv512 = Conv2d(in_channels = 512, out_channels = 512, kernel_size=3, stride=1, padding=1)\n",
    "        self.conv1024 = Conv2d(in_channels = 1024, out_channels = 1024, kernel_size=3, stride=1, padding=1)\n",
    "\n",
    "        # used for up blocks\n",
    "        self.conv64_1 = Conv2d(in_channels = 64, out_channels = 64, kernel_size=3, stride=1, padding=1)\n",
    "        self.conv128_1 = Conv2d(in_channels = 128, out_channels = 128, kernel_size=3, stride=1, padding=1)\n",
    "        self.conv256_1 = Conv2d(in_channels = 256, out_channels = 256, kernel_size=3, stride=1, padding=1)\n",
    "        self.conv512_1 = Conv2d(in_channels = 512, out_channels = 512, kernel_size=3, stride=1, padding=1)\n",
    "        self.conv1024_1 = Conv2d(in_channels = 1024, out_channels = 1024, kernel_size=3, stride=1, padding=1)\n",
    "\n",
    "        # define output layer\n",
    "        self.output_layer = Conv2d(in_channels = 64, out_channels = 1, kernel_size=3, stride=1, padding=1)\n",
    "\n",
    "        # define parameter layer for exapanding parameters of the change\n",
    "        # add more to this for shaping issues\n",
    "        self.param_layer = torch.nn.Linear(parameter_count, 128)\n",
    "        self.param_layer_256 = torch.nn.Linear(128, 256)\n",
    "        self.param_layer_512 = torch.nn.Linear(256, 512)\n",
    "\n",
    "    def forward(self, inputs, input_params):\n",
    "        # down\n",
    "        # encoder block 1\n",
    "        x = self.input_layer(inputs)\n",
    "        x = self.conv_inx64(x)\n",
    "        x = self.dropout(x)\n",
    "        x = self.relu(x)\n",
    "        x = self.conv64(x)\n",
    "        x = self.maxpool(x)\n",
    "\n",
    "        # encoder block 2\n",
    "        x = self.conv_64x128(x)\n",
    "        x = self.dropout(x)\n",
    "        x = self.relu(x)\n",
    "        x = self.conv128(x)\n",
    "        x = self.maxpool(x)\n",
    "\n",
    "        # encoder block 3\n",
    "        x = self.conv_128x256(x)\n",
    "        x = self.dropout(x)\n",
    "        x = self.relu(x)\n",
    "        x = self.conv256(x)\n",
    "        x = self.maxpool(x)\n",
    "\n",
    "        # encoder block 4\n",
    "        x = self.conv_256x512(x)\n",
    "        x = self.dropout(x)\n",
    "        x = self.relu(x)\n",
    "        x = self.conv512(x)\n",
    "\n",
    "        # the aperature horizonal/vertical position\n",
    "        parameters = torch.tensor(input_params)\n",
    "        parameters = self.param_layer(parameters)\n",
    "\n",
    "        x = self.param_layer_256(parameters)\n",
    "        x = self.param_layer_512(x)\n",
    "        x = x[:, :, None, None]\n",
    "\n",
    "        # up\n",
    "        # decoder block 1\n",
    "        x = self.upconv512(x)\n",
    "        # x = self.conv_512x256(x)\n",
    "        x = self.dropout(x)\n",
    "        x = self.relu(x)\n",
    "        x = self.upsample(x)\n",
    "        x = self.conv256_1(x)\n",
    "\n",
    "        # decoder block 2\n",
    "        x = self.upconv256(x)\n",
    "        # x = self.conv_256x128(x)\n",
    "        x = self.dropout(x)\n",
    "        x = self.relu(x)\n",
    "        x = self.upsample(x)\n",
    "        x = self.conv128_1(x)\n",
    "\n",
    "        # decoder block 3\n",
    "        x = self.upconv128(x)\n",
    "        # x = self.conv_128x64(x)\n",
    "        x = self.dropout(x)\n",
    "        x = self.relu(x)\n",
    "        x = self.upsample_final(x)\n",
    "        x = self.conv64_1(x)\n",
    "\n",
    "        output = self.output_layer(x)\n",
    "        return output"
   ]
  },
  {
   "cell_type": "code",
   "execution_count": 16,
   "id": "curious-angel",
   "metadata": {},
   "outputs": [],
   "source": [
    "class IntensityImageDataset:\n",
    "    '''\n",
    "    Create dataloaders for training and testing on intensity image data\n",
    "    '''\n",
    "    def __init__(self, beam_intensities, initial_beam_intensity, params, param_vals):\n",
    "        self.beam_intensities = np.expand_dims(beam_intensities, axis = 1)\n",
    "        self.initial_beam_intensity = np.expand_dims(initial_beam_intensity, axis=0)\n",
    "        self.params = params \n",
    "        self.param_vals = param_vals.astype(\"float32\")\n",
    "\n",
    "    def __getitem__(self, index):\n",
    "        '''\n",
    "        Returns the specified intensity image at the index given\n",
    "        '''\n",
    "        return self.beam_intensities[index], self.initial_beam_intensity, self.param_vals[index]\n",
    "\n",
    "    def __len__(self):\n",
    "        return self.beam_intensities.shape[0]\n",
    "\n",
    "    def report(self):\n",
    "        '''\n",
    "        Print information about the current data\n",
    "        '''\n",
    "        print(f'length: {len(self)}')\n",
    "        print(f\"initial beam intensity.shape:\\n{self.initial_beam_intensity.shape}\\n\")\n",
    "        print(f\"data shape:\\n{self.beam_intensities.shape}\\n\")\n",
    "        print(f\"data at index 0:\\n{self[0]}\\n\")\n",
    "        print(f'beamline parameters dtype:\\n\\t{self.params.dtype}\\n')\n",
    "        print(f'beamline parameters:\\n\\t{self.params}\\n')\n",
    "\n",
    "\n",
    "def build_dataloaders(data_path, batch_size):\n",
    "    with h5py.File(data_path, mode='r') as preprocessed_results:\n",
    "        '''\n",
    "        Parse the results that have been preprocessed and make datasets and dataloaders\n",
    "        '''\n",
    "        initial_beam_intensity_ds = preprocessed_results['preprocessed_initial_beam_intensity']\n",
    "        initial_beam_intensity = np.zeros_like(initial_beam_intensity_ds)\n",
    "        initial_beam_intensity[:] = initial_beam_intensity_ds[:]\n",
    "\n",
    "        beam_intensities_ds = preprocessed_results['preprocessed_beam_intensities']\n",
    "        beam_intensities = np.zeros_like(beam_intensities_ds)\n",
    "        beam_intensities[:] = beam_intensities_ds[:]\n",
    "\n",
    "        beam_parameters_ds = preprocessed_results['params']\n",
    "        beam_parameters = np.zeros_like(beam_parameters_ds)\n",
    "        beam_parameters[:] = beam_parameters_ds[:]\n",
    "\n",
    "        beam_param_values_ds = preprocessed_results['preprocessed_param_vals']\n",
    "        beam_param_values = np.zeros_like(beam_param_values_ds)\n",
    "        beam_param_values[:] = beam_param_values_ds[:]\n",
    "\n",
    "        # get two thirds of the data to use for training\n",
    "        training_size = 2 * (beam_intensities.shape[0] // 3)\n",
    "\n",
    "        training_intensity_dataset = IntensityImageDataset(\n",
    "            beam_intensities= beam_intensities[:training_size],\n",
    "            initial_beam_intensity=initial_beam_intensity,\n",
    "            params = beam_parameters,\n",
    "            param_vals = beam_param_values[:training_size]\n",
    "            )\n",
    "\n",
    "        training_intensity_dataloader = DataLoader(\n",
    "            training_intensity_dataset,\n",
    "            batch_size = batch_size,\n",
    "            shuffle=True\n",
    "            )\n",
    "\n",
    "        testing_intensity_dataset = IntensityImageDataset(\n",
    "            beam_intensities = beam_intensities[training_size:],\n",
    "            initial_beam_intensity=initial_beam_intensity,\n",
    "            params=beam_parameters,\n",
    "            param_vals = beam_param_values[training_size:]\n",
    "            )\n",
    "\n",
    "        testing_intensity_dataloader = DataLoader(\n",
    "            testing_intensity_dataset,\n",
    "            batch_size = batch_size,\n",
    "            shuffle = True\n",
    "            )\n",
    "\n",
    "    return training_intensity_dataloader, testing_intensity_dataloader\n",
    "\n"
   ]
  },
  {
   "cell_type": "code",
   "execution_count": 17,
   "id": "european-howard",
   "metadata": {},
   "outputs": [],
   "source": [
    "import torch.optim"
   ]
  },
  {
   "cell_type": "code",
   "execution_count": 18,
   "id": "wired-differential",
   "metadata": {},
   "outputs": [],
   "source": [
    "# process the images with image processing class\n",
    "ip = ImageProcessing([])"
   ]
  },
  {
   "cell_type": "code",
   "execution_count": 19,
   "id": "rural-salad",
   "metadata": {},
   "outputs": [],
   "source": [
    "filename = 'results.h5'"
   ]
  },
  {
   "cell_type": "code",
   "execution_count": 20,
   "id": "electric-litigation",
   "metadata": {},
   "outputs": [
    {
     "name": "stdout",
     "output_type": "stream",
     "text": [
      "Parameter Shape: (2,)\n"
     ]
    },
    {
     "data": {
      "image/png": "[encoded data removed]",
      "text/plain": [
       "<Figure size 432x288 with 2 Axes>"
      ]
     },
     "metadata": {
      "needs_background": "light"
     },
     "output_type": "display_data"
    },
    {
     "data": {
      "image/png": "[encoded data removed]",
      "text/plain": [
       "<Figure size 432x288 with 1 Axes>"
      ]
     },
     "metadata": {
      "needs_background": "light"
     },
     "output_type": "display_data"
    },
    {
     "data": {
      "image/png": "[encoded data removed]",
      "text/plain": [
       "<Figure size 432x288 with 2 Axes>"
      ]
     },
     "metadata": {
      "needs_background": "light"
     },
     "output_type": "display_data"
    },
    {
     "name": "stdout",
     "output_type": "stream",
     "text": [
      "bad image count: 0\n",
      "min initial beam intensity -0.00997997998\n"
     ]
    },
    {
     "data": {
      "image/png": "[encoded data removed]",
      "text/plain": [
       "<Figure size 432x288 with 1 Axes>"
      ]
     },
     "metadata": {
      "needs_background": "light"
     },
     "output_type": "display_data"
    },
    {
     "name": "stdout",
     "output_type": "stream",
     "text": [
      "<KeysViewHDF5 ['params', 'preprocessed_beam_intensities', 'preprocessed_initial_beam_intensity', 'preprocessed_param_vals']>\n",
      "<HDF5 dataset \"params\": shape (2,), type \"|O\">\n",
      "[b'SSA_horizontalSize' b'SSA_verticalSize']\n",
      "<HDF5 dataset \"preprocessed_param_vals\": shape (250, 2), type \"<f4\">\n"
     ]
    }
   ],
   "source": [
    "param_count, resized_images = ip.preprocess(filename)"
   ]
  },
  {
   "cell_type": "code",
   "execution_count": 21,
   "id": "formed-trainer",
   "metadata": {},
   "outputs": [],
   "source": [
    "# dataloaders and dataset\n",
    "training_intensity_dataloader, testing_intensity_dataloader = build_dataloaders('preprocessed_results.h5', 10)"
   ]
  },
  {
   "cell_type": "code",
   "execution_count": 22,
   "id": "exempt-future",
   "metadata": {},
   "outputs": [],
   "source": [
    "# define model\n",
    "model = UNet(128, 128, param_count)"
   ]
  },
  {
   "cell_type": "code",
   "execution_count": 23,
   "id": "antique-strength",
   "metadata": {},
   "outputs": [
    {
     "name": "stderr",
     "output_type": "stream",
     "text": [
      "/srv/conda/envs/notebook/lib/python3.7/site-packages/ipykernel_launcher.py:85: UserWarning: To copy construct from a tensor, it is recommended to use sourceTensor.clone().detach() or sourceTensor.clone().detach().requires_grad_(True), rather than torch.tensor(sourceTensor).\n"
     ]
    },
    {
     "data": {
      "text/plain": [
       "===================================================================================================================\n",
       "Layer (type:depth-idx)                   Input Shape               Output Shape              Param #\n",
       "===================================================================================================================\n",
       "UNet                                     --                        --                        --\n",
       "├─Conv2d: 1-1                            [2, 1, 128, 128]          [2, 1, 128, 128]          10\n",
       "├─Conv2d: 1-2                            [2, 1, 128, 128]          [2, 64, 128, 128]         640\n",
       "├─Dropout: 1-3                           [2, 64, 128, 128]         [2, 64, 128, 128]         --\n",
       "├─ReLU: 1-4                              [2, 64, 128, 128]         [2, 64, 128, 128]         --\n",
       "├─Conv2d: 1-5                            [2, 64, 128, 128]         [2, 64, 128, 128]         36,928\n",
       "├─MaxPool2d: 1-6                         [2, 64, 128, 128]         [2, 64, 64, 64]           --\n",
       "├─Conv2d: 1-7                            [2, 64, 64, 64]           [2, 128, 64, 64]          73,856\n",
       "├─Dropout: 1-8                           [2, 128, 64, 64]          [2, 128, 64, 64]          --\n",
       "├─ReLU: 1-9                              [2, 128, 64, 64]          [2, 128, 64, 64]          --\n",
       "├─Conv2d: 1-10                           [2, 128, 64, 64]          [2, 128, 64, 64]          147,584\n",
       "├─MaxPool2d: 1-11                        [2, 128, 64, 64]          [2, 128, 32, 32]          --\n",
       "├─Conv2d: 1-12                           [2, 128, 32, 32]          [2, 256, 32, 32]          295,168\n",
       "├─Dropout: 1-13                          [2, 256, 32, 32]          [2, 256, 32, 32]          --\n",
       "├─ReLU: 1-14                             [2, 256, 32, 32]          [2, 256, 32, 32]          --\n",
       "├─Conv2d: 1-15                           [2, 256, 32, 32]          [2, 256, 32, 32]          590,080\n",
       "├─MaxPool2d: 1-16                        [2, 256, 32, 32]          [2, 256, 16, 16]          --\n",
       "├─Conv2d: 1-17                           [2, 256, 16, 16]          [2, 512, 16, 16]          1,180,160\n",
       "├─Dropout: 1-18                          [2, 512, 16, 16]          [2, 512, 16, 16]          --\n",
       "├─ReLU: 1-19                             [2, 512, 16, 16]          [2, 512, 16, 16]          --\n",
       "├─Conv2d: 1-20                           [2, 512, 16, 16]          [2, 512, 16, 16]          2,359,808\n",
       "├─Linear: 1-21                           [2, 2]                    [2, 128]                  384\n",
       "├─Linear: 1-22                           [2, 128]                  [2, 256]                  33,024\n",
       "├─Linear: 1-23                           [2, 256]                  [2, 512]                  131,584\n",
       "├─ConvTranspose2d: 1-24                  [2, 512, 1, 1]            [2, 256, 1, 1]            1,179,904\n",
       "├─Dropout: 1-25                          [2, 256, 1, 1]            [2, 256, 1, 1]            --\n",
       "├─ReLU: 1-26                             [2, 256, 1, 1]            [2, 256, 1, 1]            --\n",
       "├─Upsample: 1-27                         [2, 256, 1, 1]            [2, 256, 2, 2]            --\n",
       "├─Conv2d: 1-28                           [2, 256, 2, 2]            [2, 256, 2, 2]            590,080\n",
       "├─ConvTranspose2d: 1-29                  [2, 256, 2, 2]            [2, 128, 2, 2]            295,040\n",
       "├─Dropout: 1-30                          [2, 128, 2, 2]            [2, 128, 2, 2]            --\n",
       "├─ReLU: 1-31                             [2, 128, 2, 2]            [2, 128, 2, 2]            --\n",
       "├─Upsample: 1-32                         [2, 128, 2, 2]            [2, 128, 4, 4]            --\n",
       "├─Conv2d: 1-33                           [2, 128, 4, 4]            [2, 128, 4, 4]            147,584\n",
       "├─ConvTranspose2d: 1-34                  [2, 128, 4, 4]            [2, 64, 4, 4]             73,792\n",
       "├─Dropout: 1-35                          [2, 64, 4, 4]             [2, 64, 4, 4]             --\n",
       "├─ReLU: 1-36                             [2, 64, 4, 4]             [2, 64, 4, 4]             --\n",
       "├─Upsample: 1-37                         [2, 64, 4, 4]             [2, 64, 128, 128]         --\n",
       "├─Conv2d: 1-38                           [2, 64, 128, 128]         [2, 64, 128, 128]         36,928\n",
       "├─Conv2d: 1-39                           [2, 64, 128, 128]         [2, 1, 128, 128]          577\n",
       "===================================================================================================================\n",
       "Total params: 7,173,131\n",
       "Trainable params: 7,173,131\n",
       "Non-trainable params: 0\n",
       "Total mult-adds (G): 7.92\n",
       "===================================================================================================================\n",
       "Input size (MB): 0.13\n",
       "Forward/backward pass size (MB): 80.31\n",
       "Params size (MB): 28.69\n",
       "Estimated Total Size (MB): 109.13\n",
       "==================================================================================================================="
      ]
     },
     "execution_count": 23,
     "metadata": {},
     "output_type": "execute_result"
    }
   ],
   "source": [
    "# get model summary with 128x128 size images\n",
    "summary(model, input_data = (torch.ones(2, 1, 128, 128), torch.ones(2, param_count)),\n",
    "        col_names=('input_size', 'output_size', 'num_params'))"
   ]
  },
  {
   "cell_type": "code",
   "execution_count": 24,
   "id": "generous-johnston",
   "metadata": {},
   "outputs": [],
   "source": [
    "# define optimizer and loss function\n",
    "optimizer = torch.optim.Adam(model.parameters(), lr=0.01)\n",
    "loss_func = torch.nn.MSELoss()"
   ]
  },
  {
   "cell_type": "code",
   "execution_count": 25,
   "id": "absent-province",
   "metadata": {},
   "outputs": [],
   "source": [
    "def train(model, optimizer, loss_function, train_dataloader, test_dataloader, epochs):\n",
    "    '''\n",
    "    Function for training the model\n",
    "    '''\n",
    "    train_loss = []\n",
    "    test_loss = []\n",
    "\n",
    "    if torch.cuda.is_available():\n",
    "        device  = torch.device('cuda')\n",
    "    else:\n",
    "        device = torch.device('cpu')\n",
    "\n",
    "    model.to(device)\n",
    "\n",
    "    # want to visualize images and output\n",
    "    num_rows = round((epochs-1)/100)\n",
    "    fig, axs = plt.subplots(nrows=num_rows+1, ncols=3)\n",
    "    count  = 0\n",
    "\n",
    "    for e in range(0, epochs):\n",
    "        training_loss = 0.0 \n",
    "        model.train()\n",
    "        for correct_images, images, input_params in train_dataloader:\n",
    "            optimizer.zero_grad()\n",
    "            images = images.to(device)\n",
    "            correct_images = correct_images.to(device)\n",
    "\n",
    "            predicted_images  = model(images, input_params)\n",
    "\n",
    "            loss = loss_function(predicted_images, correct_images)\n",
    "            loss.backward()\n",
    "            optimizer.step()\n",
    "\n",
    "            training_loss += loss.data.item()\n",
    "        train_loss.append(training_loss)\n",
    "\n",
    "        testing_loss = 0.0\n",
    "        model.eval()\n",
    "\n",
    "        for correct_images, images, input_params in test_dataloader:\n",
    "            images = images.to(device)\n",
    "            correct_images = correct_images.to(device)\n",
    "            predicted_images = model(images, input_params)\n",
    "            loss = loss_function(predicted_images, correct_images)\n",
    "            testing_loss += loss.data.item()\n",
    "\n",
    "        test_loss.append(testing_loss)\n",
    "\n",
    "\n",
    "        if e % 100 == 0:\n",
    "            print(\n",
    "                'Epoch:{}, Training Loss: {:.5f}, Test Loss: {:.5f}'.format(e, training_loss, testing_loss)\n",
    "                )\n",
    "            images = images.numpy()\n",
    "            #print(images.shape)\n",
    "            axs[count, 0].imshow(images[0, 0, :, :], origin=\"lower\")\n",
    "            axs[count, 0].set_title(\"initial, e= \"+str(e))\n",
    "            axs[count,0].axis(\"off\")\n",
    "            axs[count, 1].imshow(correct_images[0, 0, :, :], origin=\"lower\")\n",
    "            axs[count, 1].set_title(\"target, e= \"+str(e))\n",
    "            axs[count, 1].axis(\"off\")\n",
    "            #axs[1].set_xlabel(radius_scale_factor[0, :])\n",
    "            predicted_images = predicted_images.cpu().detach().numpy()\n",
    "            axs[count, 2].imshow(predicted_images[0, 0, :, :], origin=\"lower\")\n",
    "            axs[count, 2].set_title(\"output, e= \"+str(e))\n",
    "            axs[count, 2].axis(\"off\")\n",
    "            count += 1\n",
    "    return train_loss, test_loss"
   ]
  },
  {
   "cell_type": "code",
   "execution_count": 26,
   "id": "animated-installation",
   "metadata": {},
   "outputs": [],
   "source": [
    "sim_count = len(resized_images)\n",
    "beamline = 'TES'\n",
    "\n",
    "epoch_count = 1001"
   ]
  },
  {
   "cell_type": "code",
   "execution_count": 27,
   "id": "fifth-money",
   "metadata": {},
   "outputs": [
    {
     "name": "stdout",
     "output_type": "stream",
     "text": [
      "training_intensity_dataloader length 17\n",
      "testing_intensity_dataloader length 9\n"
     ]
    }
   ],
   "source": [
    "print(f\"training_intensity_dataloader length {len(training_intensity_dataloader)}\")\n",
    "print(f\"testing_intensity_dataloader length {len(testing_intensity_dataloader)}\")\n"
   ]
  },
  {
   "cell_type": "code",
   "execution_count": null,
   "id": "egyptian-variable",
   "metadata": {},
   "outputs": [
    {
     "name": "stderr",
     "output_type": "stream",
     "text": [
      "/srv/conda/envs/notebook/lib/python3.7/site-packages/ipykernel_launcher.py:85: UserWarning: To copy construct from a tensor, it is recommended to use sourceTensor.clone().detach() or sourceTensor.clone().detach().requires_grad_(True), rather than torch.tensor(sourceTensor).\n"
     ]
    },
    {
     "name": "stdout",
     "output_type": "stream",
     "text": [
      "Epoch:0, Training Loss: 18461752.98921, Test Loss: 9114258.75000\n",
      "Epoch:100, Training Loss: 672142.30078, Test Loss: 256061.49609\n",
      "Epoch:200, Training Loss: 680810.21289, Test Loss: 255764.35742\n"
     ]
    }
   ],
   "source": [
    "train_loss, test_loss = train(\n",
    "    model,\n",
    "    optimizer,\n",
    "    loss_func,\n",
    "    training_intensity_dataloader,\n",
    "    testing_intensity_dataloader,\n",
    "    epochs = epoch_count\n",
    "    )\n",
    "\n",
    "plt.figure()\n",
    "plt.plot(train_loss)\n",
    "plt.title(f\"{beamline} {sim_count} Simulations Training Loss\")\n",
    "plt.xlabel(\"Epoch\")\n",
    "plt.ylabel(\"Loss\")\n",
    "plt.show()\n",
    "\n",
    "plt.figure()\n",
    "plt.plot(test_loss)\n",
    "plt.title(f\"{beamline} {sim_count} Simulations Testing Loss\")\n",
    "plt.xlabel(\"Epoch\")\n",
    "plt.ylabel(\"Loss\")\n",
    "plt.show()"
   ]
  },
  {
   "cell_type": "code",
   "execution_count": null,
   "id": "supported-stone",
   "metadata": {},
   "outputs": [],
   "source": [
    "plt.plot(train_loss)\n",
    "plt.title(f\"{beamline} {sim_count} Simulations Training Loss\")\n",
    "plt.xlabel(\"Epoch\")\n",
    "plt.ylabel(\"Loss\")\n",
    "plt.yscale('log')\n",
    "plt.show()\n",
    "\n",
    "plt.plot(test_loss)\n",
    "plt.title(f\"{beamline} {sim_count} Simulations Testing Loss\")\n",
    "plt.xlabel(\"Epoch\")\n",
    "plt.ylabel(\"Loss\")\n",
    "plt.yscale('log')\n",
    "plt.show()"
   ]
  },
  {
   "cell_type": "code",
   "execution_count": null,
   "id": "lovely-benjamin",
   "metadata": {},
   "outputs": [],
   "source": []
  }
 ],
 "metadata": {
  "kernelspec": {
   "display_name": "Python 3",
   "language": "python",
   "name": "python3"
  },
  "language_info": {
   "codemirror_mode": {
    "name": "ipython",
    "version": 3
   },
   "file_extension": ".py",
   "mimetype": "text/x-python",
   "name": "python",
   "nbconvert_exporter": "python",
   "pygments_lexer": "ipython3",
   "version": "3.7.12"
  }
 },
 "nbformat": 4,
 "nbformat_minor": 5
}
