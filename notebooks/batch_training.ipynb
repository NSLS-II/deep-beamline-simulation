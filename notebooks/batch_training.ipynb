{
 "cells": [
  {
   "cell_type": "code",
   "execution_count": null,
   "id": "cca74a7c-d12d-4f3f-b6cb-bc33992307bf",
   "metadata": {},
   "outputs": [],
   "source": [
    "import torch\n",
    "import h5py\n",
    "import numpy as np\n",
    "import matplotlib.pyplot as plt\n",
    "import pandas as pd"
   ]
  },
  {
   "cell_type": "code",
   "execution_count": null,
   "id": "ff921404-2b0e-4e5c-86e9-637ea4f1ae54",
   "metadata": {},
   "outputs": [],
   "source": [
    "from deep_beamline_simulation.u_net import ImageProcessing"
   ]
  },
  {
   "cell_type": "code",
   "execution_count": null,
   "id": "027625a2-20a7-4984-aa16-e122f22d3664",
   "metadata": {},
   "outputs": [],
   "source": [
    "\"\"\"\n",
    "File path for train images\n",
    "training images are the initial intensity of SRX beamline\n",
    "the output is the output of the SRX beamline\n",
    "\"\"\"\n",
    "train_file = \"../NSLS-II-SRX/rsopt-srw-20220223192627/datasets/results.h5\"\n",
    "output_file = \"../image_data/Intensity-At-Sample-63-3m.csv\"\n"
   ]
  },
  {
   "cell_type": "code",
   "execution_count": null,
   "id": "dd44a781-2217-4b82-9bad-8ee7be8085ec",
   "metadata": {},
   "outputs": [],
   "source": [
    "\"\"\"\n",
    "file path for test images\n",
    "testing images are the initial intensity of CSX\n",
    "the output is the output of the CSX beamline with varied aperture \n",
    "horizontal and vertical is 0.1\n",
    "\"\"\"\n",
    "test_file = \"../image_data/initialInt_262.csv\"\n",
    "test_output_file = \"../image_data/sample_555.csv\"\n"
   ]
  },
  {
   "cell_type": "code",
   "execution_count": null,
   "id": "de81603c-cd0b-4414-9ded-aabe23a0af34",
   "metadata": {},
   "outputs": [],
   "source": [
    "with h5py.File(train_file) as f:\n",
    "    print(f.keys())\n",
    "    beam_intensities = f[\"beamIntensities\"]\n",
    "    ip = ImageProcessing(beam_intensities)\n",
    "    s = ip.smallest_image_size()\n",
    "    print(s)\n",
    "\n",
    "    print(beam_intensities[0])\n",
    "    \n",
    "    plt.figure()\n",
    "    plt.imshow(beam_intensities[0], aspect=\"auto\")\n",
    "    plt.show()\n",
    "\n",
    "    normalized_beam_intensities = (beam_intensities - np.mean(beam_intensities)) / np.std(beam_intensities)\n",
    "    print(normalized_beam_intensities[0])\n",
    "    \n",
    "    resized_images = []\n",
    "    for i in range(normalized_beam_intensities.shape[0]):\n",
    "        resized_images.append(ip.resize(normalized_beam_intensities[i], height=153, length=351))\n",
    "\n",
    "    plt.figure()\n",
    "    plt.imshow(resized_images[0], aspect=\"auto\")\n",
    "    plt.show()\n",
    "    \n",
    "    initial_beam_intensity = pd.read_csv(\"initial_beam_intensity_srx.csv\", skiprows=1).to_numpy()\n",
    "    normalized_initial_beam_intensity = ( initial_beam_intensity - np.mean(initial_beam_intensity) ) / np.std(initial_beam_intensity)\n",
    "    resized_initial_beam_intensity = ip.resize(\n",
    "        normalized_initial_beam_intensity,\n",
    "        height=153,\n",
    "        length=351\n",
    "    )\n",
    "\n",
    "    with h5py.File(\"preprocessed_results.h5\", mode=\"w\") as preprocessed_results:\n",
    "        pi = preprocessed_results.create_dataset(\n",
    "            \"preprocessed_initial_beam_intensity\",\n",
    "            (150, 350)\n",
    "        )\n",
    "        \n",
    "        pbi = preprocessed_results.create_dataset(\n",
    "            \"preprocessed_beam_intensities\",\n",
    "            (10, 150, 350)\n",
    "        )\n",
    "        for i, resized_image in enumerate(resized_images):\n",
    "            pbi[i] = resized_image\n",
    "        \n",
    "        param_vals = preprocessed_results.create_dataset_like(\"param_vals\", f[\"paramVals\"])\n",
    "        for i, param_val in enumerate(f[\"paramVals\"]):\n",
    "            param_vals[i] = param_val\n",
    "\n",
    "        params = preprocessed_results.create_dataset_like(\"params\", f[\"params\"])\n",
    "        for i, param in enumerate(f[\"params\"]):\n",
    "            params[i] = param\n"
   ]
  },
  {
   "cell_type": "code",
   "execution_count": null,
   "id": "e0dc4c64-fd23-4425-b6b1-4bfa3b97ec82",
   "metadata": {},
   "outputs": [],
   "source": [
    "class BeamIntensityDataset:\n",
    "    def __init__(self, beam_intensities, initial_beam_intensity, params, param_vals):\n",
    "        self.beam_intensities = beam_intensities\n",
    "        self.initial_beam_intensity = initial_beam_intensity\n",
    "        self.params = params\n",
    "        self.param_vals = param_vals\n",
    "        \n",
    "    def __getitem__(self, index):\n",
    "        return self.beam_intensities[index], self.initial_beam_intensity, self.param_vals[i]\n",
    "        \n",
    "    def __len__(self):\n",
    "        return self.beam_intensities.shape[0]\n",
    "        "
   ]
  },
  {
   "cell_type": "code",
   "execution_count": null,
   "id": "be905134-5b4d-43e7-a02e-7ac7f03331af",
   "metadata": {},
   "outputs": [],
   "source": []
  },
  {
   "cell_type": "code",
   "execution_count": null,
   "id": "51814305-54d1-43df-8f1a-913b41ffcd20",
   "metadata": {},
   "outputs": [],
   "source": []
  }
 ],
 "metadata": {
  "kernelspec": {
   "display_name": "Python 3 (ipykernel)",
   "language": "python",
   "name": "python3"
  },
  "language_info": {
   "codemirror_mode": {
    "name": "ipython",
    "version": 3
   },
   "file_extension": ".py",
   "mimetype": "text/x-python",
   "name": "python",
   "nbconvert_exporter": "python",
   "pygments_lexer": "ipython3",
   "version": "3.9.7"
  }
 },
 "nbformat": 4,
 "nbformat_minor": 5
}
